{
 "cells": [
  {
   "cell_type": "code",
   "execution_count": null,
   "id": "f650e359",
   "metadata": {},
   "outputs": [],
   "source": [
    "from random import randint\n",
    "\n",
    "secret_number = randint(1, 10)\n",
    "\n",
    "while True:\n",
    "guess = input(\"What number am I thinking of? \")\n",
    "\n",
    "if secret_number == guess: print(\"Yay! You got it.\")\n",
    "break\n",
    "else:\n",
    "print(\"No, that's not it.\")"
   ]
  }
 ],
 "metadata": {
  "kernelspec": {
   "display_name": "Python 3 (ipykernel)",
   "language": "python",
   "name": "python3"
  },
  "language_info": {
   "codemirror_mode": {
    "name": "ipython",
    "version": 3
   },
   "file_extension": ".py",
   "mimetype": "text/x-python",
   "name": "python",
   "nbconvert_exporter": "python",
   "pygments_lexer": "ipython3",
   "version": "3.9.7"
  }
 },
 "nbformat": 4,
 "nbformat_minor": 5
}
